{
 "cells": [
  {
   "cell_type": "code",
   "execution_count": 1,
   "id": "bd0ecf77",
   "metadata": {},
   "outputs": [],
   "source": [
    "#Libraries and Imports\n",
    "import pandas as pd\n",
    "import numpy as np\n"
   ]
  },
  {
   "cell_type": "code",
   "execution_count": 2,
   "id": "34950fb3",
   "metadata": {},
   "outputs": [],
   "source": [
    "#set up the url's from IMDB\n",
    "basics_url = \"https://datasets.imdbws.com/title.basics.tsv.gz\"\n",
    "ratings_url = \"https://datasets.imdbws.com/title.ratings.tsv.gz\"\n",
    "akas_url = \"https://datasets.imdbws.com/title.akas.tsv.gz\""
   ]
  },
  {
   "cell_type": "code",
   "execution_count": 3,
   "id": "19666557",
   "metadata": {},
   "outputs": [],
   "source": [
    "#load the files with Pandas\n",
    "basics = pd.read_csv(basics_url,sep='\\t', low_memory=False)\n",
    "ratings = pd.read_csv(ratings_url,sep='\\t', low_memory=False)\n",
    "akas = pd.read_csv(akas_url,sep='\\t', low_memory=False)"
   ]
  },
  {
   "cell_type": "code",
   "execution_count": 4,
   "id": "5dff43b0",
   "metadata": {},
   "outputs": [
    {
     "name": "stdout",
     "output_type": "stream",
     "text": [
      "Initial Basics Data\n",
      "<class 'pandas.core.frame.DataFrame'>\n",
      "RangeIndex: 9091590 entries, 0 to 9091589\n",
      "Data columns (total 9 columns):\n",
      " #   Column          Dtype \n",
      "---  ------          ----- \n",
      " 0   tconst          object\n",
      " 1   titleType       object\n",
      " 2   primaryTitle    object\n",
      " 3   originalTitle   object\n",
      " 4   isAdult         object\n",
      " 5   startYear       object\n",
      " 6   endYear         object\n",
      " 7   runtimeMinutes  object\n",
      " 8   genres          object\n",
      "dtypes: object(9)\n",
      "memory usage: 624.3+ MB\n",
      "None\n",
      "\n",
      "\n",
      "Initial Ratings Data\n",
      "<class 'pandas.core.frame.DataFrame'>\n",
      "RangeIndex: 1250020 entries, 0 to 1250019\n",
      "Data columns (total 3 columns):\n",
      " #   Column         Non-Null Count    Dtype  \n",
      "---  ------         --------------    -----  \n",
      " 0   tconst         1250020 non-null  object \n",
      " 1   averageRating  1250020 non-null  float64\n",
      " 2   numVotes       1250020 non-null  int64  \n",
      "dtypes: float64(1), int64(1), object(1)\n",
      "memory usage: 28.6+ MB\n",
      "None\n",
      "\n",
      "\n",
      "Initial AKA Data\n",
      "<class 'pandas.core.frame.DataFrame'>\n",
      "RangeIndex: 32616573 entries, 0 to 32616572\n",
      "Data columns (total 8 columns):\n",
      " #   Column           Dtype \n",
      "---  ------           ----- \n",
      " 0   titleId          object\n",
      " 1   ordering         int64 \n",
      " 2   title            object\n",
      " 3   region           object\n",
      " 4   language         object\n",
      " 5   types            object\n",
      " 6   attributes       object\n",
      " 7   isOriginalTitle  object\n",
      "dtypes: int64(1), object(7)\n",
      "memory usage: 1.9+ GB\n",
      "None\n"
     ]
    }
   ],
   "source": [
    "#info for initial dataframes\n",
    "print(\"Initial Basics Data\")\n",
    "print(basics.info())\n",
    "print(\"\\n\")\n",
    "print(\"Initial Ratings Data\")\n",
    "print(ratings.info())\n",
    "print(\"\\n\")\n",
    "print(\"Initial AKA Data\")\n",
    "print(akas.info())"
   ]
  },
  {
   "cell_type": "markdown",
   "id": "58c6f76d",
   "metadata": {},
   "source": [
    "# Specifications\n",
    "\n",
    "Your stakeholder only wants you to include information for movies based on the following specifications:\n",
    "\n",
    "    Exclude any movie with missing values for genre or runtime\n",
    "    Include only full-length movies (titleType = \"movie\").\n",
    "    Include only fictional movies (not from documentary genre)\n",
    "    Include only movies that were released 2000 - 2021 (include 2000 and 2021)\n",
    "    Include only movies that were released in the United States"
   ]
  },
  {
   "cell_type": "markdown",
   "id": "41443f66",
   "metadata": {},
   "source": [
    "## Title Preproccessing"
   ]
  },
  {
   "cell_type": "markdown",
   "id": "02d75f13",
   "metadata": {},
   "source": [
    "### Replace \"\\N\" with np.nan"
   ]
  },
  {
   "cell_type": "code",
   "execution_count": 5,
   "id": "e6f3e4c1",
   "metadata": {},
   "outputs": [],
   "source": [
    "basics = basics.replace({'\\\\N':np.nan})"
   ]
  },
  {
   "cell_type": "markdown",
   "id": "371622f7",
   "metadata": {},
   "source": [
    "### Eliminate movies that are null for runtimeMinutes"
   ]
  },
  {
   "cell_type": "code",
   "execution_count": 6,
   "id": "13a76fec",
   "metadata": {},
   "outputs": [
    {
     "data": {
      "text/plain": [
       "tconst                  0\n",
       "titleType               0\n",
       "primaryTitle           11\n",
       "originalTitle          11\n",
       "isAdult                 1\n",
       "startYear         1205499\n",
       "endYear           8997337\n",
       "runtimeMinutes    6643446\n",
       "genres             414109\n",
       "dtype: int64"
      ]
     },
     "execution_count": 6,
     "metadata": {},
     "output_type": "execute_result"
    }
   ],
   "source": [
    "basics.isna().sum()"
   ]
  },
  {
   "cell_type": "code",
   "execution_count": 7,
   "id": "cd795693",
   "metadata": {},
   "outputs": [],
   "source": [
    "#select the rows where the is a value for run time\n",
    "basics = basics[basics['runtimeMinutes'].notna()]"
   ]
  },
  {
   "cell_type": "code",
   "execution_count": 8,
   "id": "0d235367",
   "metadata": {},
   "outputs": [
    {
     "data": {
      "text/plain": [
       "tconst                  0\n",
       "titleType               0\n",
       "primaryTitle            1\n",
       "originalTitle           1\n",
       "isAdult                 1\n",
       "startYear           37747\n",
       "endYear           2402010\n",
       "runtimeMinutes          0\n",
       "genres              67197\n",
       "dtype: int64"
      ]
     },
     "execution_count": 8,
     "metadata": {},
     "output_type": "execute_result"
    }
   ],
   "source": [
    "#verify the null runtime rows were dropped\n",
    "basics.isna().sum()"
   ]
  },
  {
   "cell_type": "markdown",
   "id": "c3bb394c",
   "metadata": {},
   "source": [
    "### Eliminate movies that are null for genre"
   ]
  },
  {
   "cell_type": "code",
   "execution_count": 9,
   "id": "43fc9b97",
   "metadata": {},
   "outputs": [],
   "source": [
    "#select the rows where there is a vlue for genre\n",
    "basics = basics[basics['genres'].notna()]"
   ]
  },
  {
   "cell_type": "code",
   "execution_count": 10,
   "id": "5cb40202",
   "metadata": {},
   "outputs": [
    {
     "data": {
      "text/plain": [
       "tconst                  0\n",
       "titleType               0\n",
       "primaryTitle            1\n",
       "originalTitle           1\n",
       "isAdult                 0\n",
       "startYear           36401\n",
       "endYear           2336378\n",
       "runtimeMinutes          0\n",
       "genres                  0\n",
       "dtype: int64"
      ]
     },
     "execution_count": 10,
     "metadata": {},
     "output_type": "execute_result"
    }
   ],
   "source": [
    "#verify the the null genre rows were dropped\n",
    "basics.isna().sum()"
   ]
  },
  {
   "cell_type": "markdown",
   "id": "0ecc76bd",
   "metadata": {},
   "source": [
    "### keep only titleType==Movie"
   ]
  },
  {
   "cell_type": "code",
   "execution_count": 11,
   "id": "a026787d",
   "metadata": {},
   "outputs": [
    {
     "data": {
      "text/plain": [
       "tvEpisode       1055323\n",
       "short            570724\n",
       "movie            364788\n",
       "video            174191\n",
       "tvMovie           87988\n",
       "tvSeries          86056\n",
       "tvSpecial         16325\n",
       "tvMiniSeries      15901\n",
       "tvShort            9358\n",
       "videoGame           293\n",
       "Name: titleType, dtype: int64"
      ]
     },
     "execution_count": 11,
     "metadata": {},
     "output_type": "execute_result"
    }
   ],
   "source": [
    "#unfilterd list of title types\n",
    "basics['titleType'].value_counts()"
   ]
  },
  {
   "cell_type": "code",
   "execution_count": 12,
   "id": "219da7b5",
   "metadata": {},
   "outputs": [],
   "source": [
    "#create filter to select only movies\n",
    "movie_filter = basics['titleType']=='movie'"
   ]
  },
  {
   "cell_type": "code",
   "execution_count": 13,
   "id": "b41b98eb",
   "metadata": {},
   "outputs": [
    {
     "data": {
      "text/plain": [
       "movie    364788\n",
       "Name: titleType, dtype: int64"
      ]
     },
     "execution_count": 13,
     "metadata": {},
     "output_type": "execute_result"
    }
   ],
   "source": [
    "#apply filter and confirm\n",
    "basics = basics[movie_filter]\n",
    "basics['titleType'].value_counts()"
   ]
  },
  {
   "cell_type": "markdown",
   "id": "62c39ebc",
   "metadata": {},
   "source": [
    "### keep startYear 2000-2022"
   ]
  },
  {
   "cell_type": "code",
   "execution_count": 14,
   "id": "d2f4962a",
   "metadata": {},
   "outputs": [
    {
     "data": {
      "text/plain": [
       "2017    14200\n",
       "2018    14135\n",
       "2016    13845\n",
       "2019    13699\n",
       "2015    13342\n",
       "        ...  \n",
       "1894        1\n",
       "1899        1\n",
       "1904        1\n",
       "1906        1\n",
       "1896        1\n",
       "Name: startYear, Length: 129, dtype: int64"
      ]
     },
     "execution_count": 14,
     "metadata": {},
     "output_type": "execute_result"
    }
   ],
   "source": [
    "#unfilter list of start year\n",
    "basics['startYear'].value_counts()"
   ]
  },
  {
   "cell_type": "code",
   "execution_count": 15,
   "id": "4fd691cb",
   "metadata": {},
   "outputs": [],
   "source": [
    "#create year filter for 2000 thru 2022\n",
    "basics = basics[(basics['startYear'] >= '2000') & (basics['startYear'] <= '2022')]"
   ]
  },
  {
   "cell_type": "code",
   "execution_count": 16,
   "id": "f7793bba",
   "metadata": {},
   "outputs": [
    {
     "data": {
      "text/plain": [
       "2017    14200\n",
       "2018    14135\n",
       "2016    13845\n",
       "2019    13699\n",
       "2015    13342\n",
       "2014    12988\n",
       "2013    12259\n",
       "2021    11622\n",
       "2012    11531\n",
       "2020    11082\n",
       "2011    10675\n",
       "2010    10107\n",
       "2009     9252\n",
       "2008     8063\n",
       "2007     6875\n",
       "2022     6573\n",
       "2006     6419\n",
       "2005     5753\n",
       "2004     5115\n",
       "2003     4519\n",
       "2002     4082\n",
       "2001     3808\n",
       "2000     3589\n",
       "Name: startYear, dtype: int64"
      ]
     },
     "execution_count": 16,
     "metadata": {},
     "output_type": "execute_result"
    }
   ],
   "source": [
    "#confirm the year filter has been applied\n",
    "basics['startYear'].value_counts()"
   ]
  },
  {
   "cell_type": "markdown",
   "id": "e454cdc5",
   "metadata": {},
   "source": [
    "### Eliminate movies that include  \"Documentary\" in genre"
   ]
  },
  {
   "cell_type": "code",
   "execution_count": 17,
   "id": "beface49",
   "metadata": {},
   "outputs": [
    {
     "data": {
      "text/plain": [
       "Documentary                  50487\n",
       "Drama                        34467\n",
       "Comedy                       13014\n",
       "Comedy,Drama                  6216\n",
       "Horror                        5557\n",
       "                             ...  \n",
       "Adventure,Romance,Sport          1\n",
       "Adult,Documentary,History        1\n",
       "Action,Music,Sci-Fi              1\n",
       "Adventure,Fantasy,Western        1\n",
       "Action,History,Western           1\n",
       "Name: genres, Length: 1182, dtype: int64"
      ]
     },
     "execution_count": 17,
     "metadata": {},
     "output_type": "execute_result"
    }
   ],
   "source": [
    "#unfiltered genre list\n",
    "basics['genres'].value_counts()"
   ]
  },
  {
   "cell_type": "code",
   "execution_count": 18,
   "id": "9a05bad5",
   "metadata": {},
   "outputs": [],
   "source": [
    "#create filter for Documentary and then apply the invers of the filter \n",
    "#Code modified from the LEARN platform\n",
    "documentary = basics['genres'].str.contains('documentary', case=False)\n",
    "basics = basics[~documentary]"
   ]
  },
  {
   "cell_type": "code",
   "execution_count": 19,
   "id": "b0eb91cf",
   "metadata": {},
   "outputs": [
    {
     "data": {
      "text/plain": [
       "Drama                          34467\n",
       "Comedy                         13014\n",
       "Comedy,Drama                    6216\n",
       "Horror                          5557\n",
       "Drama,Romance                   4129\n",
       "                               ...  \n",
       "Horror,Reality-TV,Talk-Show        1\n",
       "Family,Musical,Sport               1\n",
       "Comedy,Game-Show                   1\n",
       "Horror,Music,Mystery               1\n",
       "Action,History,Western             1\n",
       "Name: genres, Length: 964, dtype: int64"
      ]
     },
     "execution_count": 19,
     "metadata": {},
     "output_type": "execute_result"
    }
   ],
   "source": [
    "#confirm the filter was applied\n",
    "basics['genres'].value_counts()"
   ]
  },
  {
   "cell_type": "markdown",
   "id": "3193b139",
   "metadata": {},
   "source": [
    "## AKAs Preprocessing"
   ]
  },
  {
   "cell_type": "markdown",
   "id": "76d7720d",
   "metadata": {},
   "source": [
    "### Replace \"\\N\" with np.nan"
   ]
  },
  {
   "cell_type": "code",
   "execution_count": 20,
   "id": "c3e6ab88",
   "metadata": {},
   "outputs": [],
   "source": [
    "akas = akas.replace({'\\\\N':np.nan})"
   ]
  },
  {
   "cell_type": "markdown",
   "id": "261f8b31",
   "metadata": {},
   "source": [
    "### Keep only US entries"
   ]
  },
  {
   "cell_type": "code",
   "execution_count": 21,
   "id": "7cee5186",
   "metadata": {},
   "outputs": [
    {
     "name": "stdout",
     "output_type": "stream",
     "text": [
      "<class 'pandas.core.frame.DataFrame'>\n",
      "RangeIndex: 32616573 entries, 0 to 32616572\n",
      "Data columns (total 8 columns):\n",
      " #   Column           Dtype \n",
      "---  ------           ----- \n",
      " 0   titleId          object\n",
      " 1   ordering         int64 \n",
      " 2   title            object\n",
      " 3   region           object\n",
      " 4   language         object\n",
      " 5   types            object\n",
      " 6   attributes       object\n",
      " 7   isOriginalTitle  object\n",
      "dtypes: int64(1), object(7)\n",
      "memory usage: 1.9+ GB\n"
     ]
    }
   ],
   "source": [
    "akas.info()"
   ]
  },
  {
   "cell_type": "code",
   "execution_count": 22,
   "id": "0368a3d4",
   "metadata": {},
   "outputs": [
    {
     "data": {
      "text/plain": [
       "FR    3892587\n",
       "JP    3891256\n",
       "DE    3874980\n",
       "IN    3818952\n",
       "ES    3815712\n",
       "       ...   \n",
       "TV          1\n",
       "NU          1\n",
       "PW          1\n",
       "NR          1\n",
       "TC          1\n",
       "Name: region, Length: 246, dtype: int64"
      ]
     },
     "execution_count": 22,
     "metadata": {},
     "output_type": "execute_result"
    }
   ],
   "source": [
    "#dataset using two letter code for countries\n",
    "akas['region'].value_counts()"
   ]
  },
  {
   "cell_type": "code",
   "execution_count": 23,
   "id": "8278c419",
   "metadata": {},
   "outputs": [],
   "source": [
    "#based on the exporlation abovel, create and apply a region filter for US only\n",
    "region_filter = akas['region']=='US'\n",
    "akas = akas[region_filter]"
   ]
  },
  {
   "cell_type": "code",
   "execution_count": 24,
   "id": "53b0cf61",
   "metadata": {},
   "outputs": [
    {
     "data": {
      "text/plain": [
       "US    1336620\n",
       "Name: region, dtype: int64"
      ]
     },
     "execution_count": 24,
     "metadata": {},
     "output_type": "execute_result"
    }
   ],
   "source": [
    "#confirm US filter was applied\n",
    "akas['region'].value_counts()"
   ]
  },
  {
   "cell_type": "markdown",
   "id": "20d4a232",
   "metadata": {},
   "source": [
    "## Ratings Preprocessing"
   ]
  },
  {
   "cell_type": "markdown",
   "id": "fe925b73",
   "metadata": {},
   "source": [
    "### Replace \"\\N\" with np.nan (if any)"
   ]
  },
  {
   "cell_type": "code",
   "execution_count": 25,
   "id": "6054d496",
   "metadata": {},
   "outputs": [],
   "source": [
    "ratings = ratings.replace({'\\\\N':np.nan})"
   ]
  },
  {
   "cell_type": "markdown",
   "id": "bea2d744",
   "metadata": {},
   "source": [
    "## Final Preproccessing and Completed Dataframes"
   ]
  },
  {
   "cell_type": "code",
   "execution_count": 26,
   "id": "a88396ca",
   "metadata": {},
   "outputs": [],
   "source": [
    "#We will need to filter the basics data with the US only AKA data as the filter\n",
    "##Code modified from the LEARN platform\n",
    "keeps = basics['tconst'].isin(akas['titleId'])\n",
    "basics = basics[keeps]"
   ]
  },
  {
   "cell_type": "code",
   "execution_count": 27,
   "id": "2343578d",
   "metadata": {},
   "outputs": [
    {
     "name": "stdout",
     "output_type": "stream",
     "text": [
      "Processed Basics Data\n",
      "<class 'pandas.core.frame.DataFrame'>\n",
      "Int64Index: 81777 entries, 34789 to 9091355\n",
      "Data columns (total 9 columns):\n",
      " #   Column          Non-Null Count  Dtype \n",
      "---  ------          --------------  ----- \n",
      " 0   tconst          81777 non-null  object\n",
      " 1   titleType       81777 non-null  object\n",
      " 2   primaryTitle    81777 non-null  object\n",
      " 3   originalTitle   81777 non-null  object\n",
      " 4   isAdult         81777 non-null  object\n",
      " 5   startYear       81777 non-null  object\n",
      " 6   endYear         0 non-null      object\n",
      " 7   runtimeMinutes  81777 non-null  object\n",
      " 8   genres          81777 non-null  object\n",
      "dtypes: object(9)\n",
      "memory usage: 6.2+ MB\n",
      "None\n",
      "\n",
      "\n",
      "Processed Ratings Data\n",
      "<class 'pandas.core.frame.DataFrame'>\n",
      "RangeIndex: 1250020 entries, 0 to 1250019\n",
      "Data columns (total 3 columns):\n",
      " #   Column         Non-Null Count    Dtype  \n",
      "---  ------         --------------    -----  \n",
      " 0   tconst         1250020 non-null  object \n",
      " 1   averageRating  1250020 non-null  float64\n",
      " 2   numVotes       1250020 non-null  int64  \n",
      "dtypes: float64(1), int64(1), object(1)\n",
      "memory usage: 28.6+ MB\n",
      "None\n",
      "\n",
      "\n",
      "Processed AKA Data\n",
      "<class 'pandas.core.frame.DataFrame'>\n",
      "Int64Index: 1336620 entries, 5 to 32616317\n",
      "Data columns (total 8 columns):\n",
      " #   Column           Non-Null Count    Dtype \n",
      "---  ------           --------------    ----- \n",
      " 0   titleId          1336620 non-null  object\n",
      " 1   ordering         1336620 non-null  int64 \n",
      " 2   title            1336620 non-null  object\n",
      " 3   region           1336620 non-null  object\n",
      " 4   language         3632 non-null     object\n",
      " 5   types            963184 non-null   object\n",
      " 6   attributes       44498 non-null    object\n",
      " 7   isOriginalTitle  1335245 non-null  object\n",
      "dtypes: int64(1), object(7)\n",
      "memory usage: 91.8+ MB\n",
      "None\n"
     ]
    }
   ],
   "source": [
    "#display info for the processed data frames\n",
    "print(\"Processed Basics Data\")\n",
    "print(basics.info())\n",
    "print(\"\\n\")\n",
    "print(\"Processed Ratings Data\")\n",
    "print(ratings.info())\n",
    "print(\"\\n\")\n",
    "print(\"Processed AKA Data\")\n",
    "print(akas.info())"
   ]
  },
  {
   "cell_type": "markdown",
   "id": "4632a590",
   "metadata": {},
   "source": [
    ">The data frames have changed by the following amount of entries:\n",
    "Basics - From 9,091,590 to 81,777. A change of -9,009,813\n",
    "Ratings - From 1,250,020 to 1,250,020. No change.\n",
    "AKA's - From 32,616,573 to 13,36,620. A change of -31,279,953"
   ]
  },
  {
   "cell_type": "markdown",
   "id": "6abfb933",
   "metadata": {},
   "source": [
    "## Saving-Completed-Dataframes-to-the-Repository"
   ]
  },
  {
   "cell_type": "code",
   "execution_count": 30,
   "id": "804fb10e",
   "metadata": {},
   "outputs": [
    {
     "data": {
      "text/plain": [
       "[]"
      ]
     },
     "execution_count": 30,
     "metadata": {},
     "output_type": "execute_result"
    }
   ],
   "source": [
    "#create Data folder using os\n",
    "import os\n",
    "os.makedirs('Data/', exist_ok=True)\n",
    "#confirm folder creations\n",
    "os.listdir(\"Data/\")"
   ]
  },
  {
   "cell_type": "code",
   "execution_count": 31,
   "id": "e74260ab",
   "metadata": {},
   "outputs": [],
   "source": [
    "#save each completed data frame to the Data folder\n",
    "basics.to_csv(\"Data/title_basics.csv.gz\",compression='gzip',index=False)\n",
    "ratings.to_csv(\"Data/title_ratings.csv.gz\",compression='gzip',index=False)\n",
    "akas.to_csv(\"Data/title_akas.csv.gz\",compression='gzip',index=False)"
   ]
  },
  {
   "cell_type": "code",
   "execution_count": 32,
   "id": "e978380c",
   "metadata": {},
   "outputs": [
    {
     "data": {
      "text/plain": [
       "['title_akas.csv.gz', 'title_basics.csv.gz', 'title_ratings.csv.gz']"
      ]
     },
     "execution_count": 32,
     "metadata": {},
     "output_type": "execute_result"
    }
   ],
   "source": [
    "#confirm files have been created\n",
    "os.listdir(\"Data/\")"
   ]
  },
  {
   "cell_type": "code",
   "execution_count": null,
   "id": "7aed14a5",
   "metadata": {},
   "outputs": [],
   "source": []
  }
 ],
 "metadata": {
  "kernelspec": {
   "display_name": "Python (dojo-env)",
   "language": "python",
   "name": "dojo-env"
  },
  "language_info": {
   "codemirror_mode": {
    "name": "ipython",
    "version": 3
   },
   "file_extension": ".py",
   "mimetype": "text/x-python",
   "name": "python",
   "nbconvert_exporter": "python",
   "pygments_lexer": "ipython3",
   "version": "3.9.12"
  },
  "toc": {
   "base_numbering": 1,
   "nav_menu": {},
   "number_sections": false,
   "sideBar": true,
   "skip_h1_title": false,
   "title_cell": "Table of Contents",
   "title_sidebar": "Contents",
   "toc_cell": false,
   "toc_position": {
    "height": "calc(100% - 180px)",
    "left": "10px",
    "top": "150px",
    "width": "384px"
   },
   "toc_section_display": true,
   "toc_window_display": true
  }
 },
 "nbformat": 4,
 "nbformat_minor": 5
}
